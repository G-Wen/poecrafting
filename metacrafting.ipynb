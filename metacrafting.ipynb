{
 "cells": [
  {
   "cell_type": "code",
   "execution_count": 1,
   "metadata": {
    "ExecuteTime": {
     "end_time": "2020-02-15T00:41:12.914308Z",
     "start_time": "2020-02-15T00:41:12.539794Z"
    }
   },
   "outputs": [
    {
     "name": "stdout",
     "output_type": "stream",
     "text": [
      "python                3.6.3\n",
      "networkx              2.0\n",
      "graphviz              0.13.2\n",
      "matplotlib            2.1.0\n"
     ]
    }
   ],
   "source": [
    "# python standard library\n",
    "from collections import defaultdict\n",
    "import random\n",
    "import platform\n",
    "import pkg_resources\n",
    "# packages\n",
    "import networkx as nx\n",
    "import graphviz\n",
    "import matplotlib.pyplot as plt\n",
    "import numpy as np\n",
    "\n",
    "print('python', ' '*(20-len('python')), platform.python_version())\n",
    "modules = ['networkx', 'graphviz', 'matplotlib']\n",
    "for module in modules:\n",
    "    print(module, \" \"*(20-len(module)), pkg_resources.get_distribution(module).version)"
   ]
  },
  {
   "cell_type": "code",
   "execution_count": 2,
   "metadata": {
    "collapsed": true
   },
   "outputs": [],
   "source": [
    "# Define some weights for the prefixes or suffixes you're trying to hit:\n",
    "total_weight=65375\n",
    "block_group_weight=12000\n",
    "aff1_weight=250\n",
    "aff1_group_weight=250\n",
    "aff2_weight=500\n",
    "aff2_group_weight=1500\n",
    "avg_bad_group_weight=2200\n",
    "\n",
    "# Do you want to slam if you fail your annul (have ____ cannot be changed and one bad mod)?\n",
    "slam_on_annul_fail = False\n",
    "target_success_rate = 0.8"
   ]
  },
  {
   "cell_type": "code",
   "execution_count": 9,
   "metadata": {
    "ExecuteTime": {
     "end_time": "2020-02-15T00:41:30.479013Z",
     "start_time": "2020-02-15T00:41:30.458701Z"
    },
    "collapsed": true
   },
   "outputs": [],
   "source": [
    "G = nx.DiGraph()\n",
    "# cost is given in [exalts, annul, scour, # times crafting blocking mod]\n",
    "# Block/Meta > Aff1 > Aff2 > Bad\n",
    "\n",
    "# from Block\n",
    "G.add_edge(\n",
    "    \"Block\",\n",
    "    \"Block Aff1\",\n",
    "    cost=[1, 0, 0],\n",
    "    weight=aff1_weight / (total_weight - block_group_weight)\n",
    ")\n",
    "G.add_edge(\n",
    "    \"Block\",\n",
    "    \"Block Aff2\",\n",
    "    cost=[1, 0, 0],\n",
    "    weight=aff2_weight / (total_weight - block_group_weight)\n",
    ")\n",
    "G.add_edge(\n",
    "    \"Block\",\n",
    "    \"Block Bad\",\n",
    "    cost=[1, 0, 0],\n",
    "    weight=(total_weight  - block_group_weight - aff1_weight - aff2_weight) / (total_weight - block_group_weight)\n",
    ")\n",
    "\n",
    "\n",
    "# from Block Bad\n",
    "G.add_edge(\n",
    "    \"Block Bad\",\n",
    "    \"Block Aff1 Bad\",\n",
    "    cost=[1, 0, 0],\n",
    "    weight=aff1_weight / (total_weight - block_group_weight - avg_bad_group_weight)\n",
    ")\n",
    "G.add_edge(\n",
    "    \"Block Bad\",\n",
    "    \"Block Aff2 Bad\",\n",
    "    cost=[1, 0, 0],\n",
    "    weight=aff2_weight / (total_weight - block_group_weight - avg_bad_group_weight)\n",
    ")\n",
    "G.add_edge(\n",
    "    \"Block Bad\", # We've hit a second bad affix so we metacraft, scour, and recraft our blocking mod\n",
    "    \"Block\",\n",
    "    cost=[3, 0, 2, 1], # 1 exalt for slam, 2 exalt & 1 scour for metamod, 1 scour for wipe\n",
    "    weight=(total_weight - block_group_weight - avg_bad_group_weight - aff1_weight - aff2_weight) / (total_weight - block_group_weight - avg_bad_group_weight)\n",
    ")\n",
    "\n",
    "#from Block Aff1\n",
    "G.add_edge(\n",
    "    \"Block Aff1\",\n",
    "    \"Block Aff1 Aff2\",\n",
    "    cost=[1, 0, 0],\n",
    "    weight= aff2_weight / (total_weight - block_group_weight - aff1_group_weight)\n",
    ")\n",
    "G.add_edge(\n",
    "    \"Block Aff1\",\n",
    "    \"Block Aff1 Bad\",\n",
    "    cost=[1, 0, 0],\n",
    "    weight= (total_weight - block_group_weight - aff1_group_weight - aff2_weight) / (total_weight - block_group_weight - aff1_group_weight)\n",
    ")\n",
    "\n",
    "#from Block Aff2\n",
    "G.add_edge(\n",
    "    \"Block Aff2\",\n",
    "    \"Block Aff1 Aff2\",\n",
    "    cost=[1, 0, 0],\n",
    "    weight= aff1_weight / (total_weight - block_group_weight - aff2_group_weight)\n",
    ")\n",
    "G.add_edge(\n",
    "    \"Block Aff2\",\n",
    "    \"Block Aff2 Bad\",\n",
    "    cost=[1, 0, 0],\n",
    "    weight= (total_weight - block_group_weight - aff2_group_weight - aff1_weight) / (total_weight - block_group_weight - aff2_group_weight)\n",
    ")\n",
    "\n",
    "# from Block Aff1 Bad\n",
    "G.add_edge(\n",
    "    \"Block Aff1 Bad\",\n",
    "    \"Meta Aff1 Bad\",\n",
    "    cost=[2, 0, 1],\n",
    "    weight=1\n",
    ")\n",
    "\n",
    "# from Meta Aff1 Bad\n",
    "G.add_edge(\n",
    "    \"Meta Aff1 Bad\",\n",
    "    \"Meta Aff1 Bad\",\n",
    "    cost=[2, 1, 0],\n",
    "    weight=1/3\n",
    ")\n",
    "G.add_edge(\n",
    "    \"Meta Aff1 Bad\",\n",
    "    \"Meta Bad\",\n",
    "    cost=[0, 1, 0],\n",
    "    weight=1/3\n",
    ")\n",
    "G.add_edge(\n",
    "    \"Meta Aff1 Bad\",\n",
    "    \"Block Aff1\",\n",
    "    cost=[0, 1, 1, 1],\n",
    "    weight=1/3\n",
    ")\n",
    "\n",
    "# from Block Aff2 Bad\n",
    "G.add_edge(\n",
    "    \"Block Aff2 Bad\",\n",
    "    \"Meta Aff2 Bad\",\n",
    "    cost=[2, 0, 1],\n",
    "    weight=1\n",
    ")\n",
    "\n",
    "# from Meta Aff2 Bad\n",
    "G.add_edge(\n",
    "    \"Meta Aff2 Bad\",\n",
    "    \"Meta Aff2 Bad\",\n",
    "    cost=[2, 1, 0],\n",
    "    weight=1/3\n",
    ")\n",
    "G.add_edge(\n",
    "    \"Meta Aff2 Bad\",\n",
    "    \"Meta Bad\",\n",
    "    cost=[0, 1, 0],\n",
    "    weight=1/3\n",
    ")\n",
    "G.add_edge(\n",
    "    \"Meta Aff2 Bad\",\n",
    "    \"Block Aff2\",\n",
    "    cost=[0, 1, 1, 1],\n",
    "    weight=1/3\n",
    ")\n",
    "\n",
    "if slam_on_annul_fail:\n",
    "    # from Meta Bad\n",
    "    G.add_edge(\n",
    "        \"Meta Bad\",\n",
    "        \"Block\",\n",
    "        cost=[1, 0, 1, 1],\n",
    "        weight=(total_weight - aff1_weight - aff2_weight - avg_bad_group_weight) / (total_weight - avg_bad_group_weight)\n",
    "    )\n",
    "    G.add_edge(\n",
    "        \"Meta Bad\",\n",
    "        \"Meta Aff1 Bad\",\n",
    "        cost=[1, 0, 0],\n",
    "        weight=aff1_weight / (total_weight - avg_bad_group_weight)\n",
    "    )\n",
    "    G.add_edge(\n",
    "        \"Meta Bad\",\n",
    "        \"Meta Aff2 Bad\",\n",
    "        cost=[1, 0, 0],\n",
    "        weight=aff2_weight / (total_weight - avg_bad_group_weight)\n",
    "    )\n",
    "else:\n",
    "    G.add_edge(\n",
    "        \"Meta Bad\",\n",
    "        \"Block\",\n",
    "        cost=[0, 0, 1, 1],\n",
    "        weight=1\n",
    "    )"
   ]
  },
  {
   "cell_type": "code",
   "execution_count": 4,
   "metadata": {
    "ExecuteTime": {
     "end_time": "2020-02-15T00:42:20.386558Z",
     "start_time": "2020-02-15T00:42:20.378864Z"
    }
   },
   "outputs": [
    {
     "name": "stdout",
     "output_type": "stream",
     "text": [
      "11 nodes\n",
      "20 edges\n"
     ]
    }
   ],
   "source": [
    "print(len(G), \"nodes\")\n",
    "print(len(G.edges()), \"edges\")\n",
    "\n",
    "# Vectorize all costs\n",
    "for src_node, dst_node in G.edges:\n",
    "    cost = G.edges[src_node, dst_node]['cost']\n",
    "    if len(cost) == 3:\n",
    "        cost += [0]\n",
    "    G.edges[src_node, dst_node]['cost'] = np.array(cost, dtype=float)"
   ]
  },
  {
   "cell_type": "code",
   "execution_count": 5,
   "metadata": {
    "ExecuteTime": {
     "end_time": "2020-02-15T00:42:55.672971Z",
     "start_time": "2020-02-15T00:42:55.668671Z"
    }
   },
   "outputs": [
    {
     "name": "stdout",
     "output_type": "stream",
     "text": [
      "WARNING: Node  Block Aff1 Aff2  sums to probability  0\n"
     ]
    }
   ],
   "source": [
    "# Check that the probabilities always add to 1.\n",
    "for src_node in G:\n",
    "    total = 0\n",
    "    for dst_node in nx.neighbors(G, src_node):\n",
    "        total += G.edges[src_node, dst_node]['weight']\n",
    "    if total != 1:\n",
    "        print(\"WARNING: Node \", src_node, \" sums to probability \", total)"
   ]
  },
  {
   "cell_type": "code",
   "execution_count": 6,
   "metadata": {
    "ExecuteTime": {
     "end_time": "2020-02-15T00:43:13.404384Z",
     "start_time": "2020-02-15T00:43:13.359430Z"
    },
    "collapsed": true
   },
   "outputs": [],
   "source": [
    "# Visualizing graphs with more than a trivial amount of nodes is a super hard problem.\n",
    "# To get good results, you have to micromanage it.\n",
    "# Let's be lazy and just get a default spaghetti plot.\n",
    "def plot_graph(graph):\n",
    "    viz = graphviz.Digraph()\n",
    "    viz.attr(rankdir='LR', size='10')\n",
    "    viz.attr('node', shape='oval')\n",
    "    for src_node, dst_node in graph.edges():\n",
    "        viz.edge(\n",
    "            src_node,\n",
    "            dst_node,\n",
    "            label=str(round(100*graph.edges[src_node, dst_node]['weight'], 2))+'%'+'\\n'+\n",
    "                  str(graph.edges[src_node, dst_node]['cost'])\n",
    "        )\n",
    "    return viz\n",
    "\n",
    "# Don't plot the graph in windows because everything explodes\n",
    "# plot_graph(G)"
   ]
  },
  {
   "cell_type": "code",
   "execution_count": 7,
   "metadata": {
    "ExecuteTime": {
     "end_time": "2020-02-15T00:51:40.753611Z",
     "start_time": "2020-02-15T00:51:40.719077Z"
    },
    "collapsed": true
   },
   "outputs": [],
   "source": [
    "# I'm assuming that you start in a certain state. (eg. Block)\n",
    "# Also, that you have as objective some other state. (eg. Block Aff1 Aff2)\n",
    "# So lets make a function that iterates the transtion graph on the initial state to see how long it takes to win.\n",
    "\n",
    "def time2goal(G, start, stop, epsilon=0.001):\n",
    "    state_vec = defaultdict(lambda: 0)\n",
    "    cost_vec = defaultdict(lambda: np.zeros(4))\n",
    "    # ie state_vec['Block'] = 1\n",
    "    state_vec[start] = 1\n",
    "    \n",
    "    success=[0]\n",
    "    success_cost=[np.zeros(4)]\n",
    "    \n",
    "    while sum(state_vec.values()) > epsilon:\n",
    "        state_vec, cost_vec = transition(G, state_vec, cost_vec)\n",
    "        success.append(state_vec[stop])\n",
    "        success_cost.append(cost_vec[stop])\n",
    "        state_vec[stop] = 0\n",
    "        cost_vec[stop] = np.zeros(4)\n",
    "        \n",
    "    report_time(success, success_cost)\n",
    "    \n",
    "    return\n",
    "    \n",
    "    \n",
    "def transition(G, state_vec, cost_vec):\n",
    "    new_state_vec = defaultdict(lambda: 0)\n",
    "    new_cost_vec = defaultdict(lambda: 0)\n",
    "    for src_node, dst_node in G.edges():\n",
    "        weight = state_vec[src_node] * G.edges[src_node, dst_node]['weight']\n",
    "        new_state_vec[dst_node] += weight\n",
    "        new_cost_vec[dst_node] += weight * cost_vec[src_node] # previous costs\n",
    "        new_cost_vec[dst_node] += weight * G.edges[src_node, dst_node]['cost'] # current transition cost\n",
    "    for node in G:\n",
    "        if new_state_vec[node] > 0:\n",
    "            new_cost_vec[node] = new_cost_vec[node] / new_state_vec[node]\n",
    "        \n",
    "    return new_state_vec, new_cost_vec\n",
    "\n",
    "\n",
    "def report_time(success, success_cost):\n",
    "    np.set_printoptions(precision=2)\n",
    "    cumulative_success = np.cumsum(success)\n",
    "    average, average_cost = 0, np.zeros(4)\n",
    "    median, median_cost = 0, np.zeros(4)\n",
    "    expected_trials, expected_cost = 0, np.zeros(4)\n",
    "    \n",
    "\n",
    "        \n",
    "    for i, density in enumerate(cumulative_success):\n",
    "        if median == 0 and density >= 0.5:\n",
    "            median = i\n",
    "            median_cost = success_cost[i]\n",
    "        if expected_trials == 0 and density >= target_success_rate:\n",
    "            expected_trials = i\n",
    "            expected_cost = success_cost[i]\n",
    "    \"\"\"\n",
    "    print('Average: ', average)\n",
    "    print('Median:', median)\n",
    "    for i, prob in enumerate(success):\n",
    "        average += prob * i\n",
    "        average_cost += prob * success_cost[i]\n",
    "    print('Average Cost: ', average_cost)\n",
    "    \"\"\"\n",
    "    \n",
    "    print('Median Cost: ', median_cost)\n",
    "    print('Expected Cost (' + str(target_success_rate) + '): ', expected_cost)\n",
    "    \n",
    "    \n",
    "    plt.figure(1)\n",
    "    plt.plot(success)\n",
    "    plt.figure(2)\n",
    "    plt.plot(cumulative_success)\n",
    "    plt.axvline(x=median)\n",
    "    #plt.axvline(x=average)\n",
    "    plt.axvline(x=expected_trials)\n",
    "    plt.show()"
   ]
  },
  {
   "cell_type": "code",
   "execution_count": 8,
   "metadata": {
    "ExecuteTime": {
     "end_time": "2020-02-15T00:51:48.847378Z",
     "start_time": "2020-02-15T00:51:48.705885Z"
    }
   },
   "outputs": [
    {
     "name": "stdout",
     "output_type": "stream",
     "text": [
      "Median Cost:  [ 10697.67    219.32   5311.38   2509.48]\n",
      "Expected Cost (0.8):  [ 24834.34    507.03  12331.47   5827.72]\n"
     ]
    },
    {
     "data": {
      "image/png": "[encoded data removed]",
      "text/plain": [
       "<matplotlib.figure.Figure at 0x14cb2e8aeb8>"
      ]
     },
     "metadata": {},
     "output_type": "display_data"
    },
    {
     "data": {
      "image/png": "[encoded data removed]",
      "text/plain": [
       "<matplotlib.figure.Figure at 0x14cb4c9a438>"
      ]
     },
     "metadata": {},
     "output_type": "display_data"
    }
   ],
   "source": [
    "time2goal(G, 'Block', 'Block Aff1 Aff2')"
   ]
  },
  {
   "cell_type": "code",
   "execution_count": null,
   "metadata": {
    "collapsed": true
   },
   "outputs": [],
   "source": []
  }
 ],
 "metadata": {
  "kernelspec": {
   "display_name": "Python 3",
   "language": "python",
   "name": "python3"
  },
  "language_info": {
   "codemirror_mode": {
    "name": "ipython",
    "version": 3
   },
   "file_extension": ".py",
   "mimetype": "text/x-python",
   "name": "python",
   "nbconvert_exporter": "python",
   "pygments_lexer": "ipython3",
   "version": "3.6.3"
  },
  "toc": {
   "base_numbering": 1,
   "nav_menu": {},
   "number_sections": true,
   "sideBar": true,
   "skip_h1_title": false,
   "title_cell": "Table of Contents",
   "title_sidebar": "Contents",
   "toc_cell": false,
   "toc_position": {},
   "toc_section_display": true,
   "toc_window_display": false
  },
  "varInspector": {
   "cols": {
    "lenName": 16,
    "lenType": 16,
    "lenVar": 40
   },
   "kernels_config": {
    "python": {
     "delete_cmd_postfix": "",
     "delete_cmd_prefix": "del ",
     "library": "var_list.py",
     "varRefreshCmd": "print(var_dic_list())"
    },
    "r": {
     "delete_cmd_postfix": ") ",
     "delete_cmd_prefix": "rm(",
     "library": "var_list.r",
     "varRefreshCmd": "cat(var_dic_list()) "
    }
   },
   "types_to_exclude": [
    "module",
    "function",
    "builtin_function_or_method",
    "instance",
    "_Feature"
   ],
   "window_display": false
  }
 },
 "nbformat": 4,
 "nbformat_minor": 2
}
